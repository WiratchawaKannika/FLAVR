{
 "cells": [
  {
   "cell_type": "code",
   "execution_count": 1,
   "id": "dbcf8245",
   "metadata": {},
   "outputs": [],
   "source": [
    "import os\n",
    "import numpy as np\n",
    "import torch\n",
    "from PIL import Image\n",
    "import random\n",
    "import glob\n",
    "import json \n",
    "import pandas as pd\n",
    "from pathlib import Path\n",
    "import PIL\n",
    "import cv2 \n",
    "import tqdm"
   ]
  },
  {
   "cell_type": "code",
   "execution_count": null,
   "id": "fb0861f6",
   "metadata": {},
   "outputs": [],
   "source": []
  },
  {
   "cell_type": "code",
   "execution_count": 6,
   "id": "7452089f",
   "metadata": {},
   "outputs": [],
   "source": [
    "def _columnsGen(root_path, lst_dir):\n",
    "#     root_path = '/media/SSD/Frame_Inter_rheology2023/_10GenFrame/FLAVRModel/Frame_Inter/Saliva2/'\n",
    "#     #lst_dir = os.listdir(root_path)\n",
    "#     #print(len(lst_dir))\n",
    "    #lst_dir = ['gen1', 'gen3', 'gen2']\n",
    "    lst_dir.sort()\n",
    "    lst_dir\n",
    "    for g in lst_dir:\n",
    "        pth2CSV = root_path+g+'/'\n",
    "        data = glob.glob(f\"{pth2CSV}/*.csv\")\n",
    "        for d in data:\n",
    "            print(f\"Process on -->> [ {d} ]\")\n",
    "            dataframe = pd.read_csv(d)\n",
    "            dataframe['gennum'] = ''\n",
    "            for i in range(len(dataframe)):\n",
    "                strseq_inter = dataframe['seq_inter'][i]\n",
    "                if \"gen\" in strseq_inter:\n",
    "                    gen = strseq_inter.split('_')[-1]\n",
    "                    _gen = gen.split(\".\")[0]\n",
    "                    dataframe.loc[dataframe.index[i], 'gennum'] = _gen\n",
    "                else:\n",
    "                    dataframe.loc[dataframe.index[i], 'gennum'] = 'origin'\n",
    "            print(f\"Save New CSV. Files at : {d} With Shape {dataframe.shape}\")\n",
    "            dataframe.to_csv(d)\n",
    "            print('='*125)"
   ]
  },
  {
   "cell_type": "code",
   "execution_count": 7,
   "id": "80f85560",
   "metadata": {},
   "outputs": [
    {
     "name": "stdout",
     "output_type": "stream",
     "text": [
      "Process on -->> [ /media/SSD/Frame_Inter_rheology2023/_10GenFrame/FLAVRModel/Frame_Inter/Saliva2/gen4/AS00_P100_D0_20XINF_UWELL_20230123_090309_gen4.csv ]\n",
      "Save New CSV. Files at : /media/SSD/Frame_Inter_rheology2023/_10GenFrame/FLAVRModel/Frame_Inter/Saliva2/gen4/AS00_P100_D0_20XINF_UWELL_20230123_090309_gen4.csv With Shape (63971, 3)\n",
      "=============================================================================================================================\n",
      "Process on -->> [ /media/SSD/Frame_Inter_rheology2023/_10GenFrame/FLAVRModel/Frame_Inter/Saliva2/gen4/AS00_P100_D0_20XINF_UWELL_20230123_085951_gen4.csv ]\n",
      "Save New CSV. Files at : /media/SSD/Frame_Inter_rheology2023/_10GenFrame/FLAVRModel/Frame_Inter/Saliva2/gen4/AS00_P100_D0_20XINF_UWELL_20230123_085951_gen4.csv With Shape (63971, 3)\n",
      "=============================================================================================================================\n",
      "Process on -->> [ /media/SSD/Frame_Inter_rheology2023/_10GenFrame/FLAVRModel/Frame_Inter/Saliva2/gen4/AS00_P100_D0_20XINF_UWELL_20230123_090132_gen4.csv ]\n",
      "Save New CSV. Files at : /media/SSD/Frame_Inter_rheology2023/_10GenFrame/FLAVRModel/Frame_Inter/Saliva2/gen4/AS00_P100_D0_20XINF_UWELL_20230123_090132_gen4.csv With Shape (63971, 3)\n",
      "=============================================================================================================================\n",
      "Process on -->> [ /media/SSD/Frame_Inter_rheology2023/_10GenFrame/FLAVRModel/Frame_Inter/Saliva2/gen5/AS00_P100_D0_20XINF_UWELL_20230123_090132_gen5.csv ]\n",
      "Save New CSV. Files at : /media/SSD/Frame_Inter_rheology2023/_10GenFrame/FLAVRModel/Frame_Inter/Saliva2/gen5/AS00_P100_D0_20XINF_UWELL_20230123_090132_gen5.csv With Shape (127939, 3)\n",
      "=============================================================================================================================\n",
      "Process on -->> [ /media/SSD/Frame_Inter_rheology2023/_10GenFrame/FLAVRModel/Frame_Inter/Saliva2/gen5/AS00_P100_D0_20XINF_UWELL_20230123_085951_gen5.csv ]\n",
      "Save New CSV. Files at : /media/SSD/Frame_Inter_rheology2023/_10GenFrame/FLAVRModel/Frame_Inter/Saliva2/gen5/AS00_P100_D0_20XINF_UWELL_20230123_085951_gen5.csv With Shape (127939, 3)\n",
      "=============================================================================================================================\n",
      "Process on -->> [ /media/SSD/Frame_Inter_rheology2023/_10GenFrame/FLAVRModel/Frame_Inter/Saliva2/gen5/AS00_P100_D0_20XINF_UWELL_20230123_090309_gen5.csv ]\n",
      "Save New CSV. Files at : /media/SSD/Frame_Inter_rheology2023/_10GenFrame/FLAVRModel/Frame_Inter/Saliva2/gen5/AS00_P100_D0_20XINF_UWELL_20230123_090309_gen5.csv With Shape (127939, 3)\n",
      "=============================================================================================================================\n"
     ]
    }
   ],
   "source": [
    "root_path= '/media/SSD/Frame_Inter_rheology2023/_10GenFrame/FLAVRModel/Frame_Inter/Saliva2/'\n",
    "lst_dir = ['gen4', 'gen5']\n",
    "_columnsGen(root_path, lst_dir)"
   ]
  },
  {
   "cell_type": "markdown",
   "id": "d4f382d2",
   "metadata": {},
   "source": [
    "## ตรวจสอบ CSV File "
   ]
  },
  {
   "cell_type": "code",
   "execution_count": 8,
   "id": "4fb6a1da",
   "metadata": {},
   "outputs": [
    {
     "name": "stdout",
     "output_type": "stream",
     "text": [
      "Process on -->> [ /media/SSD/Frame_Inter_rheology2023/_10GenFrame/FLAVRModel/Frame_Inter/Saliva2/gen4/AS00_P100_D0_20XINF_UWELL_20230123_090309_gen4.csv ]\n",
      "With Shape (63971, 4)\n",
      "=============================================================================================================================\n",
      "Process on -->> [ /media/SSD/Frame_Inter_rheology2023/_10GenFrame/FLAVRModel/Frame_Inter/Saliva2/gen4/AS00_P100_D0_20XINF_UWELL_20230123_085951_gen4.csv ]\n",
      "With Shape (63971, 4)\n",
      "=============================================================================================================================\n",
      "Process on -->> [ /media/SSD/Frame_Inter_rheology2023/_10GenFrame/FLAVRModel/Frame_Inter/Saliva2/gen4/AS00_P100_D0_20XINF_UWELL_20230123_090132_gen4.csv ]\n",
      "With Shape (63971, 4)\n",
      "=============================================================================================================================\n",
      "Process on -->> [ /media/SSD/Frame_Inter_rheology2023/_10GenFrame/FLAVRModel/Frame_Inter/Saliva2/gen5/AS00_P100_D0_20XINF_UWELL_20230123_090132_gen5.csv ]\n",
      "With Shape (127939, 4)\n",
      "=============================================================================================================================\n",
      "Process on -->> [ /media/SSD/Frame_Inter_rheology2023/_10GenFrame/FLAVRModel/Frame_Inter/Saliva2/gen5/AS00_P100_D0_20XINF_UWELL_20230123_085951_gen5.csv ]\n",
      "With Shape (127939, 4)\n",
      "=============================================================================================================================\n",
      "Process on -->> [ /media/SSD/Frame_Inter_rheology2023/_10GenFrame/FLAVRModel/Frame_Inter/Saliva2/gen5/AS00_P100_D0_20XINF_UWELL_20230123_090309_gen5.csv ]\n",
      "With Shape (127939, 4)\n",
      "=============================================================================================================================\n"
     ]
    }
   ],
   "source": [
    "for g in lst_dir:\n",
    "    pth2CSV = root_path+g+'/'\n",
    "    data = glob.glob(f\"{pth2CSV}/*.csv\")\n",
    "    for d in data:\n",
    "        print(f\"Process on -->> [ {d} ]\")\n",
    "        dataframe = pd.read_csv(d)\n",
    "        print(f\"With Shape {dataframe.shape}\")\n",
    "        print('='*125)"
   ]
  },
  {
   "cell_type": "code",
   "execution_count": 9,
   "id": "e2503ba7",
   "metadata": {},
   "outputs": [
    {
     "data": {
      "text/html": [
       "<div>\n",
       "<style scoped>\n",
       "    .dataframe tbody tr th:only-of-type {\n",
       "        vertical-align: middle;\n",
       "    }\n",
       "\n",
       "    .dataframe tbody tr th {\n",
       "        vertical-align: top;\n",
       "    }\n",
       "\n",
       "    .dataframe thead th {\n",
       "        text-align: right;\n",
       "    }\n",
       "</style>\n",
       "<table border=\"1\" class=\"dataframe\">\n",
       "  <thead>\n",
       "    <tr style=\"text-align: right;\">\n",
       "      <th></th>\n",
       "      <th>Unnamed: 0</th>\n",
       "      <th>Unnamed: 0.1</th>\n",
       "      <th>seq_inter</th>\n",
       "      <th>gennum</th>\n",
       "    </tr>\n",
       "  </thead>\n",
       "  <tbody>\n",
       "    <tr>\n",
       "      <th>0</th>\n",
       "      <td>0</td>\n",
       "      <td>0</td>\n",
       "      <td>/media/SSD/rheology2023/Saliva2/AS00_P100_D0_2...</td>\n",
       "      <td>origin</td>\n",
       "    </tr>\n",
       "    <tr>\n",
       "      <th>1</th>\n",
       "      <td>1</td>\n",
       "      <td>1</td>\n",
       "      <td>/media/SSD/rheology2023/Saliva2/AS00_P100_D0_2...</td>\n",
       "      <td>origin</td>\n",
       "    </tr>\n",
       "    <tr>\n",
       "      <th>2</th>\n",
       "      <td>2</td>\n",
       "      <td>2</td>\n",
       "      <td>/media/SSD/Frame_Inter_rheology2023/_10GenFram...</td>\n",
       "      <td>gen5</td>\n",
       "    </tr>\n",
       "    <tr>\n",
       "      <th>3</th>\n",
       "      <td>3</td>\n",
       "      <td>3</td>\n",
       "      <td>/media/SSD/Frame_Inter_rheology2023/_10GenFram...</td>\n",
       "      <td>gen4</td>\n",
       "    </tr>\n",
       "    <tr>\n",
       "      <th>4</th>\n",
       "      <td>4</td>\n",
       "      <td>4</td>\n",
       "      <td>/media/SSD/Frame_Inter_rheology2023/_10GenFram...</td>\n",
       "      <td>gen5</td>\n",
       "    </tr>\n",
       "    <tr>\n",
       "      <th>...</th>\n",
       "      <td>...</td>\n",
       "      <td>...</td>\n",
       "      <td>...</td>\n",
       "      <td>...</td>\n",
       "    </tr>\n",
       "    <tr>\n",
       "      <th>127934</th>\n",
       "      <td>127934</td>\n",
       "      <td>127934</td>\n",
       "      <td>/media/SSD/Frame_Inter_rheology2023/_10GenFram...</td>\n",
       "      <td>gen5</td>\n",
       "    </tr>\n",
       "    <tr>\n",
       "      <th>127935</th>\n",
       "      <td>127935</td>\n",
       "      <td>127935</td>\n",
       "      <td>/media/SSD/Frame_Inter_rheology2023/_10GenFram...</td>\n",
       "      <td>gen4</td>\n",
       "    </tr>\n",
       "    <tr>\n",
       "      <th>127936</th>\n",
       "      <td>127936</td>\n",
       "      <td>127936</td>\n",
       "      <td>/media/SSD/Frame_Inter_rheology2023/_10GenFram...</td>\n",
       "      <td>gen5</td>\n",
       "    </tr>\n",
       "    <tr>\n",
       "      <th>127937</th>\n",
       "      <td>127937</td>\n",
       "      <td>127937</td>\n",
       "      <td>/media/SSD/rheology2023/Saliva2/AS00_P100_D0_2...</td>\n",
       "      <td>origin</td>\n",
       "    </tr>\n",
       "    <tr>\n",
       "      <th>127938</th>\n",
       "      <td>127938</td>\n",
       "      <td>127938</td>\n",
       "      <td>/media/SSD/rheology2023/Saliva2/AS00_P100_D0_2...</td>\n",
       "      <td>origin</td>\n",
       "    </tr>\n",
       "  </tbody>\n",
       "</table>\n",
       "<p>127939 rows × 4 columns</p>\n",
       "</div>"
      ],
      "text/plain": [
       "        Unnamed: 0  Unnamed: 0.1  \\\n",
       "0                0             0   \n",
       "1                1             1   \n",
       "2                2             2   \n",
       "3                3             3   \n",
       "4                4             4   \n",
       "...            ...           ...   \n",
       "127934      127934        127934   \n",
       "127935      127935        127935   \n",
       "127936      127936        127936   \n",
       "127937      127937        127937   \n",
       "127938      127938        127938   \n",
       "\n",
       "                                                seq_inter  gennum  \n",
       "0       /media/SSD/rheology2023/Saliva2/AS00_P100_D0_2...  origin  \n",
       "1       /media/SSD/rheology2023/Saliva2/AS00_P100_D0_2...  origin  \n",
       "2       /media/SSD/Frame_Inter_rheology2023/_10GenFram...    gen5  \n",
       "3       /media/SSD/Frame_Inter_rheology2023/_10GenFram...    gen4  \n",
       "4       /media/SSD/Frame_Inter_rheology2023/_10GenFram...    gen5  \n",
       "...                                                   ...     ...  \n",
       "127934  /media/SSD/Frame_Inter_rheology2023/_10GenFram...    gen5  \n",
       "127935  /media/SSD/Frame_Inter_rheology2023/_10GenFram...    gen4  \n",
       "127936  /media/SSD/Frame_Inter_rheology2023/_10GenFram...    gen5  \n",
       "127937  /media/SSD/rheology2023/Saliva2/AS00_P100_D0_2...  origin  \n",
       "127938  /media/SSD/rheology2023/Saliva2/AS00_P100_D0_2...  origin  \n",
       "\n",
       "[127939 rows x 4 columns]"
      ]
     },
     "execution_count": 9,
     "metadata": {},
     "output_type": "execute_result"
    }
   ],
   "source": [
    "dataframe"
   ]
  },
  {
   "cell_type": "code",
   "execution_count": 10,
   "id": "52be14ab",
   "metadata": {},
   "outputs": [
    {
     "data": {
      "text/plain": [
       "'/media/SSD/Frame_Inter_rheology2023/_10GenFrame/FLAVRModel/Frame_Inter/Saliva2/gen5/AS00_P100_D0_20XINF_UWELL_20230123_090309_gen5-inter/AS00_P100_D0_20XINF_UWELL_20230123_090309_inter63967_gen5.jpg'"
      ]
     },
     "execution_count": 10,
     "metadata": {},
     "output_type": "execute_result"
    }
   ],
   "source": [
    "dataframe['seq_inter'][127934]"
   ]
  },
  {
   "cell_type": "code",
   "execution_count": null,
   "id": "4f675479",
   "metadata": {},
   "outputs": [],
   "source": []
  },
  {
   "cell_type": "code",
   "execution_count": null,
   "id": "5dc43f17",
   "metadata": {},
   "outputs": [],
   "source": []
  },
  {
   "cell_type": "code",
   "execution_count": null,
   "id": "cbf3704d",
   "metadata": {},
   "outputs": [],
   "source": []
  },
  {
   "cell_type": "code",
   "execution_count": null,
   "id": "a23c5d79",
   "metadata": {},
   "outputs": [],
   "source": []
  }
 ],
 "metadata": {
  "kernelspec": {
   "display_name": "FLAVR",
   "language": "python",
   "name": "flavr"
  },
  "language_info": {
   "codemirror_mode": {
    "name": "ipython",
    "version": 3
   },
   "file_extension": ".py",
   "mimetype": "text/x-python",
   "name": "python",
   "nbconvert_exporter": "python",
   "pygments_lexer": "ipython3",
   "version": "3.7.15"
  }
 },
 "nbformat": 4,
 "nbformat_minor": 5
}
