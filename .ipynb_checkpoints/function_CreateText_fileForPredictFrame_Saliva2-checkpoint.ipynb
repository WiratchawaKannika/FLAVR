{
 "cells": [
  {
   "cell_type": "code",
   "execution_count": 4,
   "id": "b73de3d9",
   "metadata": {},
   "outputs": [],
   "source": [
    "import json \n",
    "import pandas as pd\n",
    "import numpy as np\n",
    "from pathlib import Path\n",
    "import PIL\n",
    "from PIL import Image\n",
    "import cv2 \n",
    "import torch\n",
    "import tqdm\n",
    "import os  \n",
    "import glob"
   ]
  },
  {
   "cell_type": "code",
   "execution_count": 21,
   "id": "6595bed5",
   "metadata": {},
   "outputs": [
    {
     "name": "stdout",
     "output_type": "stream",
     "text": [
      "Files Gen : AS00_P100_D0_20XINF_UWELL_20230123_085951_gen1\n",
      "(7999, 2)\n",
      "(7996, 2)\n",
      "On Process : Write text file name -> [ /media/SSD/Frame_Inter_rheology2023/_10GenFrame/FLAVRModel/Frame_Inter/Saliva2/gen1/AS00_P100_D0_20XINF_UWELL_20230123_085951_gen1-4linedemo.txt ] \n",
      "*****************************************************************************************************************************\n",
      "Files Gen : AS00_P100_D0_20XINF_UWELL_20230123_090309_gen1\n",
      "(7999, 2)\n",
      "(7996, 2)\n",
      "On Process : Write text file name -> [ /media/SSD/Frame_Inter_rheology2023/_10GenFrame/FLAVRModel/Frame_Inter/Saliva2/gen1/AS00_P100_D0_20XINF_UWELL_20230123_090309_gen1-4linedemo.txt ] \n",
      "*****************************************************************************************************************************\n",
      "Files Gen : AS00_P100_D0_20XINF_UWELL_20230123_090132_gen1\n",
      "(7999, 2)\n",
      "(7996, 2)\n",
      "On Process : Write text file name -> [ /media/SSD/Frame_Inter_rheology2023/_10GenFrame/FLAVRModel/Frame_Inter/Saliva2/gen1/AS00_P100_D0_20XINF_UWELL_20230123_090132_gen1-4linedemo.txt ] \n",
      "*****************************************************************************************************************************\n"
     ]
    }
   ],
   "source": [
    "##loop read file\n",
    "RootpathtoCSV = '/media/SSD/Frame_Inter_rheology2023/_10GenFrame/FLAVRModel/Frame_Inter/Saliva2/gen1/' #Setting \n",
    "files = glob.glob(f\"{RootpathtoCSV}/*.csv\")\n",
    "\n",
    "for f in files:\n",
    "    nameFile = f.split('/')[-1]\n",
    "    _nameFile = nameFile.split('.')[0]\n",
    "    print(f\"Files Gen : {_nameFile}\")\n",
    "    df = pd.read_csv(f)\n",
    "    print(df.shape)\n",
    "    lst_filepth = df['seq_inter'].tolist()\n",
    "    \n",
    "    ## Start Create Text files \n",
    "    df = pd.DataFrame(lst_filepth, columns =['Path'])\n",
    "    df_ = df[:-3].reset_index(drop=True)\n",
    "    #print(df_.shape)\n",
    "    # df2_\n",
    "    df2 = pd.DataFrame(lst_filepth, columns =['Path'])\n",
    "    df2_ = df2[1:-2].reset_index(drop=True)\n",
    "    #print(df2_.shape)\n",
    "    #df3_ \n",
    "    df3 = pd.DataFrame(lst_filepth, columns =['Path'])\n",
    "    df3_ = df3[2:-1].reset_index(drop=True)\n",
    "    #print(df3_.shape)\n",
    "    #df4_ \n",
    "    df4 = pd.DataFrame(lst_filepth, columns =['Path'])\n",
    "    df4_ = df3[3:].reset_index(drop=True)\n",
    "    #print(df3_.shape)\n",
    "    #df3_ \n",
    "    df_['Path_txt'] = ''\n",
    "    for i in range(len(df_)):\n",
    "        name1 = df_['Path'][i]\n",
    "        name2 = df2_['Path'][i]\n",
    "        name3 = df3_['Path'][i]\n",
    "        name4 = df4_['Path'][i]\n",
    "        df_.loc[df_.index[i], 'Path_txt'] = str(name1)+' '+str(name2)+' '+str(name3)+' '+str(name4)  \n",
    "    print(df_.shape)\n",
    "    df_.head()\n",
    "    list_path = df_['Path_txt'].tolist()\n",
    "    with open(f'{RootpathtoCSV}{_nameFile}-4linedemo.txt', 'w') as f:\n",
    "             for line in list_path:\n",
    "                 f.write(f\"{line}\\n\")\n",
    "    print(f'On Process : Write text file name -> [ {RootpathtoCSV}{_nameFile}-4linedemo.txt ] ')\n",
    "    print('*'*125)"
   ]
  },
  {
   "cell_type": "markdown",
   "id": "2d28f27a",
   "metadata": {},
   "source": [
    "### Check Text Files"
   ]
  },
  {
   "cell_type": "code",
   "execution_count": 26,
   "id": "097fd0ee",
   "metadata": {},
   "outputs": [
    {
     "name": "stdout",
     "output_type": "stream",
     "text": [
      "3\n"
     ]
    },
    {
     "data": {
      "text/plain": [
       "['/media/SSD/Frame_Inter_rheology2023/_10GenFrame/FLAVRModel/Frame_Inter/Saliva2/gen1/AS00_P100_D0_20XINF_UWELL_20230123_085951_gen1-4linedemo.txt',\n",
       " '/media/SSD/Frame_Inter_rheology2023/_10GenFrame/FLAVRModel/Frame_Inter/Saliva2/gen1/AS00_P100_D0_20XINF_UWELL_20230123_090309_gen1-4linedemo.txt',\n",
       " '/media/SSD/Frame_Inter_rheology2023/_10GenFrame/FLAVRModel/Frame_Inter/Saliva2/gen1/AS00_P100_D0_20XINF_UWELL_20230123_090132_gen1-4linedemo.txt']"
      ]
     },
     "execution_count": 26,
     "metadata": {},
     "output_type": "execute_result"
    }
   ],
   "source": [
    "import glob\n",
    "\n",
    "test_demo_ = []\n",
    "for k in range(len(files)) :\n",
    "    nameFile = files[k].split('/')[-1]\n",
    "    _nameFile = nameFile.split('.')[0]\n",
    "    pth = f'{RootpathtoCSV}{_nameFile}-4linedemo.txt'\n",
    "    #print(pth2save_txt)\n",
    "    test_demo_.append(pth)\n",
    "    \n",
    "print(len(test_demo_))\n",
    "test_demo_"
   ]
  },
  {
   "cell_type": "code",
   "execution_count": 27,
   "id": "00955d60",
   "metadata": {},
   "outputs": [
    {
     "name": "stdout",
     "output_type": "stream",
     "text": [
      "/media/SSD/rheology2023/Saliva2/AS00_P100_D0_20XINF_UWELL_20230123_085951/AS00_P100_D0_20XINF_UWELL_20230123_085951_0000000001.jpg /media/SSD/rheology2023/Saliva2/AS00_P100_D0_20XINF_UWELL_20230123_085951/AS00_P100_D0_20XINF_UWELL_20230123_085951_0000000002.jpg /media/SSD/Frame_Inter_rheology2023/_10GenFrame/FLAVRModel/Frame_Inter/Saliva2/gen1/AS00_P100_D0_20XINF_UWELL_20230123_085951-inter/AS00_P100_D0_20XINF_UWELL_20230123_085951_inter0_gen1.jpg /media/SSD/rheology2023/Saliva2/AS00_P100_D0_20XINF_UWELL_20230123_085951/AS00_P100_D0_20XINF_UWELL_20230123_085951_0000000003.jpg\n",
      "\n"
     ]
    }
   ],
   "source": [
    "f = open(test_demo_[0], \"r\")\n",
    "print(f.readline())"
   ]
  },
  {
   "cell_type": "code",
   "execution_count": 28,
   "id": "143a70aa",
   "metadata": {},
   "outputs": [
    {
     "name": "stdout",
     "output_type": "stream",
     "text": [
      "/media/SSD/rheology2023/Saliva2/AS00_P100_D0_20XINF_UWELL_20230123_090309/AS00_P100_D0_20XINF_UWELL_20230123_090309_0000000001.jpg /media/SSD/rheology2023/Saliva2/AS00_P100_D0_20XINF_UWELL_20230123_090309/AS00_P100_D0_20XINF_UWELL_20230123_090309_0000000002.jpg /media/SSD/Frame_Inter_rheology2023/_10GenFrame/FLAVRModel/Frame_Inter/Saliva2/gen1/AS00_P100_D0_20XINF_UWELL_20230123_090309-inter/AS00_P100_D0_20XINF_UWELL_20230123_090309_inter0_gen1.jpg /media/SSD/rheology2023/Saliva2/AS00_P100_D0_20XINF_UWELL_20230123_090309/AS00_P100_D0_20XINF_UWELL_20230123_090309_0000000003.jpg\n",
      "\n"
     ]
    }
   ],
   "source": [
    "f = open(test_demo_[1], \"r\")\n",
    "print(f.readline())"
   ]
  },
  {
   "cell_type": "code",
   "execution_count": 29,
   "id": "83f78b13",
   "metadata": {},
   "outputs": [
    {
     "name": "stdout",
     "output_type": "stream",
     "text": [
      "/media/SSD/rheology2023/Saliva2/AS00_P100_D0_20XINF_UWELL_20230123_090132/AS00_P100_D0_20XINF_UWELL_20230123_090132_0000000001.jpg /media/SSD/rheology2023/Saliva2/AS00_P100_D0_20XINF_UWELL_20230123_090132/AS00_P100_D0_20XINF_UWELL_20230123_090132_0000000002.jpg /media/SSD/Frame_Inter_rheology2023/_10GenFrame/FLAVRModel/Frame_Inter/Saliva2/gen1/AS00_P100_D0_20XINF_UWELL_20230123_090132-inter/AS00_P100_D0_20XINF_UWELL_20230123_090132_inter0_gen1.jpg /media/SSD/rheology2023/Saliva2/AS00_P100_D0_20XINF_UWELL_20230123_090132/AS00_P100_D0_20XINF_UWELL_20230123_090132_0000000003.jpg\n",
      "\n"
     ]
    }
   ],
   "source": [
    "f = open(test_demo_[2], \"r\")\n",
    "print(f.readline())"
   ]
  },
  {
   "cell_type": "code",
   "execution_count": 33,
   "id": "f3c9e8d0",
   "metadata": {},
   "outputs": [],
   "source": [
    "# f = open(test_demo_[2], \"r\")\n",
    "# print(f.read())"
   ]
  },
  {
   "cell_type": "code",
   "execution_count": null,
   "id": "0114f45c",
   "metadata": {},
   "outputs": [],
   "source": []
  },
  {
   "cell_type": "code",
   "execution_count": null,
   "id": "9c8c78ec",
   "metadata": {},
   "outputs": [],
   "source": []
  },
  {
   "cell_type": "code",
   "execution_count": 17,
   "id": "6534fa43",
   "metadata": {},
   "outputs": [],
   "source": [
    "# RootpathtoCSV = '/media/SSD/Frame_Inter_rheology2023/_10GenFrame/FLAVRModel/Frame_Inter/Saliva2/gen1/' #path to csv. file consisted sequence frame from gen frame in each time\n",
    "# files = glob.glob(f\"{RootpathtoCSV}/*.csv\")\n",
    "# print(len(files))\n",
    "# files"
   ]
  },
  {
   "cell_type": "code",
   "execution_count": 16,
   "id": "23e8682c",
   "metadata": {},
   "outputs": [],
   "source": [
    "# ##loop read file\n",
    "# for f in files:\n",
    "#     nameFile = f.split('/')[-1]\n",
    "#     _nameFile = nameFile.split('.')[0]\n",
    "#     print(f\"Files Gen : {_nameFile}\")\n",
    "#     df = pd.read_csv(f)\n",
    "#     print(df.shape)\n",
    "#     lst_filepth = df['seq_inter'].tolist()\n",
    "# df.head()"
   ]
  },
  {
   "cell_type": "code",
   "execution_count": 10,
   "id": "f8c024d4",
   "metadata": {},
   "outputs": [],
   "source": [
    "# print(len(lst_filepth))\n",
    "# lst_filepth"
   ]
  },
  {
   "cell_type": "code",
   "execution_count": 15,
   "id": "54bf5946",
   "metadata": {},
   "outputs": [],
   "source": [
    "#df_['Path_txt'].tolist()"
   ]
  },
  {
   "cell_type": "code",
   "execution_count": null,
   "id": "1e97d80a",
   "metadata": {},
   "outputs": [],
   "source": []
  },
  {
   "cell_type": "code",
   "execution_count": null,
   "id": "3a1a282b",
   "metadata": {},
   "outputs": [],
   "source": []
  },
  {
   "cell_type": "code",
   "execution_count": null,
   "id": "b0010d8c",
   "metadata": {},
   "outputs": [],
   "source": []
  },
  {
   "cell_type": "code",
   "execution_count": null,
   "id": "e9c5865b",
   "metadata": {},
   "outputs": [],
   "source": []
  },
  {
   "cell_type": "code",
   "execution_count": null,
   "id": "4ad79c50",
   "metadata": {},
   "outputs": [],
   "source": []
  },
  {
   "cell_type": "code",
   "execution_count": null,
   "id": "120b387c",
   "metadata": {},
   "outputs": [],
   "source": []
  },
  {
   "cell_type": "code",
   "execution_count": null,
   "id": "4767ddda",
   "metadata": {},
   "outputs": [],
   "source": []
  }
 ],
 "metadata": {
  "kernelspec": {
   "display_name": "FLAVR",
   "language": "python",
   "name": "flavr"
  },
  "language_info": {
   "codemirror_mode": {
    "name": "ipython",
    "version": 3
   },
   "file_extension": ".py",
   "mimetype": "text/x-python",
   "name": "python",
   "nbconvert_exporter": "python",
   "pygments_lexer": "ipython3",
   "version": "3.7.15"
  }
 },
 "nbformat": 4,
 "nbformat_minor": 5
}
