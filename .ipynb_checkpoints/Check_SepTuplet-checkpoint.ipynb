{
 "cells": [
  {
   "cell_type": "code",
   "execution_count": null,
   "id": "b57ff725",
   "metadata": {},
   "outputs": [],
   "source": [
    "import os\n",
    "import numpy as np\n",
    "import torch\n",
    "from torch.utils.data import Dataset, DataLoader\n",
    "from torchvision import transforms\n",
    "from PIL import Image\n",
    "import random\n",
    "import glob\n",
    "import json \n",
    "import pandas as pd\n",
    "from pathlib import Path\n",
    "import PIL\n",
    "import cv2 \n",
    "import tqdm"
   ]
  },
  {
   "cell_type": "code",
   "execution_count": null,
   "id": "78bb503f",
   "metadata": {},
   "outputs": [],
   "source": [
    "##function check broken images path.\n",
    "def img_verify(sub_testlist):\n",
    "    _except = []\n",
    "    for file in sub_testlist:\n",
    "        try:\n",
    "            img = Image.open(file)  # open the image file\n",
    "            img.verify()  # verify that it is, in fact an image\n",
    "        except (IOError, SyntaxError) as e:\n",
    "            _except.append(file)\n",
    "    return _except "
   ]
  },
  {
   "cell_type": "code",
   "execution_count": null,
   "id": "6e61df88",
   "metadata": {},
   "outputs": [],
   "source": [
    "is_training = True\n",
    "training = is_training = True\n",
    "training"
   ]
  },
  {
   "cell_type": "code",
   "execution_count": null,
   "id": "6ed0a4e1",
   "metadata": {},
   "outputs": [],
   "source": [
    "data_root = \"/media/SSD/Frame_Inter_rheology2023/dataset/_5Frame/\"\n",
    "trainlist = [] \n",
    "testlist = [] \n",
    "training = is_training = True\n",
    "#inputs = input_frames "
   ]
  },
  {
   "cell_type": "code",
   "execution_count": null,
   "id": "20f9e889",
   "metadata": {},
   "outputs": [],
   "source": [
    "train_fn = glob.glob(f\"{data_root}/GLY*train.txt\")\n",
    "print(len(train_fn))\n",
    "train_fn"
   ]
  },
  {
   "cell_type": "code",
   "execution_count": null,
   "id": "0fbca1e3",
   "metadata": {},
   "outputs": [],
   "source": [
    "train_fn = glob.glob(f\"{data_root}/*train.txt\")\n",
    "train_fn.sort()\n",
    "#test_fn = os.path.join(self.data_root, 'sep_testlist.txt')\n",
    "test_fn = glob.glob(f\"{data_root}/*test.txt\")\n",
    "test_fn.sort()"
   ]
  },
  {
   "cell_type": "code",
   "execution_count": null,
   "id": "bd0b24c6",
   "metadata": {},
   "outputs": [],
   "source": [
    "print(len(train_fn))\n",
    "train_fn"
   ]
  },
  {
   "cell_type": "code",
   "execution_count": null,
   "id": "48771c0f",
   "metadata": {
    "scrolled": true
   },
   "outputs": [],
   "source": [
    "print(len(test_fn))\n",
    "test_fn"
   ]
  },
  {
   "cell_type": "code",
   "execution_count": null,
   "id": "7759162d",
   "metadata": {},
   "outputs": [],
   "source": [
    "train_fn = glob.glob(f\"{data_root}/*train.txt\")\n",
    "train_fn.sort()\n",
    "test_fn = glob.glob(f\"{data_root}/*test.txt\")\n",
    "test_fn.sort()\n",
    "## For training set\n",
    "for fn in train_fn:\n",
    "    with open(fn, 'r') as txt:\n",
    "         meta_data = [line.strip() for line in txt]\n",
    "    for seq in meta_data:\n",
    "        img1_path, img2_path, img3_path, img4_path, img5_path = seq.split(' ')\n",
    "        trainlist.append([img1_path,img2_path,img3_path,img4_path, img5_path])\n",
    "## For Test set \n",
    "for ft in test_fn:\n",
    "    with open(ft, 'r') as txt:\n",
    "         meta_data = [line.strip() for line in txt]\n",
    "    for seq in meta_data:\n",
    "        img1_path, img2_path, img3_path, img4_path, img5_path = seq.split(' ')\n",
    "        testlist.append([img1_path,img2_path,img3_path,img4_path, img5_path])\n",
    "\n",
    "\n",
    "if training:\n",
    "    transforms = transforms.Compose([\n",
    "        transforms.RandomCrop(256),\n",
    "        transforms.RandomHorizontalFlip(0.5),\n",
    "        transforms.RandomVerticalFlip(0.5),\n",
    "        transforms.ColorJitter(0.05, 0.05, 0.05, 0.05),\n",
    "        transforms.ToTensor()\n",
    "    ])\n",
    "else:\n",
    "    transforms = transforms.Compose([\n",
    "      transforms.ToTensor()\n",
    "     ])"
   ]
  },
  {
   "cell_type": "code",
   "execution_count": null,
   "id": "27ae763e",
   "metadata": {},
   "outputs": [],
   "source": [
    "print(len(trainlist))\n",
    "trainlist"
   ]
  },
  {
   "cell_type": "code",
   "execution_count": null,
   "id": "10d269d5",
   "metadata": {},
   "outputs": [],
   "source": [
    "trainlist[0]"
   ]
  },
  {
   "cell_type": "code",
   "execution_count": null,
   "id": "9e3dfd07",
   "metadata": {},
   "outputs": [],
   "source": [
    "for i in range(len(trainlist[0])):\n",
    "    print(trainlist[0][i])"
   ]
  },
  {
   "cell_type": "code",
   "execution_count": null,
   "id": "dc5a99af",
   "metadata": {},
   "outputs": [],
   "source": [
    "print(len(testlist))\n",
    "testlist"
   ]
  },
  {
   "cell_type": "code",
   "execution_count": null,
   "id": "1066deb5",
   "metadata": {},
   "outputs": [],
   "source": [
    "root2save = '/media/SSD/Frame_Inter_rheology2023/dataset/_5FrameFilter/' \n",
    "root2save\n",
    "if not os.path.exists(root2save):\n",
    "    os.makedirs(root2save)"
   ]
  },
  {
   "cell_type": "code",
   "execution_count": null,
   "id": "b267078d",
   "metadata": {},
   "outputs": [],
   "source": [
    "trainlist0 = trainlist[:500]\n",
    "print(len(trainlist0))\n",
    "trainlist0"
   ]
  },
  {
   "cell_type": "code",
   "execution_count": null,
   "id": "5cef5c09",
   "metadata": {},
   "outputs": [],
   "source": [
    "# pth_training1, pth_training2, pth_training3, pth_training4, pth_training5 = [],[],[],[],[]\n",
    "\n",
    "# for index in range(len(trainlist0)):\n",
    "#     imgpaths = trainlist0[index]\n",
    "#     from PIL import Image, ImageFile\n",
    "#     ImageFile.LOAD_TRUNCATED_IMAGES = True\n",
    "#     # Load images\n",
    "#     _except = img_verify(imgpaths)\n",
    "#     if len(_except) == 0:\n",
    "#         pth_training1.append(imgpaths[0])\n",
    "#         pth_training2.append(imgpaths[1])\n",
    "#         pth_training3.append(imgpaths[2])\n",
    "#         pth_training4.append(imgpaths[3])\n",
    "#         pth_training5.append(imgpaths[4])"
   ]
  },
  {
   "cell_type": "code",
   "execution_count": null,
   "id": "d29aadbb",
   "metadata": {},
   "outputs": [],
   "source": [
    "# df_ = pd.DataFrame(\n",
    "#     {'Path1': pth_training1,\n",
    "#      'Path2': pth_training2,\n",
    "#      'Path3': pth_training3,\n",
    "#      'Path4': pth_training4,\n",
    "#      'Path5': pth_training5\n",
    "#     })\n",
    "# df_['Path_txt'] = ''\n",
    "# for i in range(len(df_)):\n",
    "#         name1 = df_['Path1'][i]\n",
    "#         name2 = df_['Path2'][i]\n",
    "#         name3 = df_['Path3'][i]\n",
    "#         name4 = df_['Path4'][i]\n",
    "#         name5 = df_['Path5'][i]\n",
    "#         df_.loc[df_.index[i], 'Path_txt'] = str(name1)+' '+str(name2)+' '+str(name3)+' '+str(name4)+' '+str(name5)    \n",
    "# print(df_.shape)\n",
    "# df_.head()\n",
    "# ## Save to text file \n",
    "# list_path = df_['Path_txt'].tolist()\n",
    "# path2savetxt = f'{root2save}rheology2023-train.txt'\n",
    "# # with open(path2savetxt, 'w') as f:\n",
    "# #      for line in list_path:\n",
    "# #             f.write(f\"{line}\\n\")\n",
    "# print(f'On Process : Write text file name -> [ {path2savetxt} ] ') "
   ]
  },
  {
   "cell_type": "code",
   "execution_count": null,
   "id": "9490b83c",
   "metadata": {},
   "outputs": [],
   "source": [
    "def Filter_dataset(trainlist0, subset, root2save): ## subset == train or test -->> type must be string\n",
    "    pth_training1, pth_training2, pth_training3, pth_training4, pth_training5 = [],[],[],[],[]\n",
    "\n",
    "    for index in range(len(trainlist0)):\n",
    "        imgpaths = trainlist0[index]\n",
    "        from PIL import Image, ImageFile\n",
    "        ImageFile.LOAD_TRUNCATED_IMAGES = True\n",
    "        # Load images\n",
    "        _except = img_verify(imgpaths)\n",
    "        if len(_except) == 0:\n",
    "            pth_training1.append(imgpaths[0])\n",
    "            pth_training2.append(imgpaths[1])\n",
    "            pth_training3.append(imgpaths[2])\n",
    "            pth_training4.append(imgpaths[3])\n",
    "            pth_training5.append(imgpaths[4])\n",
    "\n",
    "    ## Prepare to create text files\n",
    "    df_ = pd.DataFrame(\n",
    "        {'Path1': pth_training1,\n",
    "         'Path2': pth_training2,\n",
    "         'Path3': pth_training3,\n",
    "         'Path4': pth_training4,\n",
    "         'Path5': pth_training5\n",
    "        })\n",
    "\n",
    "    df_['Path_txt'] = ''\n",
    "    for i in range(len(df_)):\n",
    "            name1 = df_['Path1'][i]\n",
    "            name2 = df_['Path2'][i]\n",
    "            name3 = df_['Path3'][i]\n",
    "            name4 = df_['Path4'][i]\n",
    "            name5 = df_['Path5'][i]\n",
    "            df_.loc[df_.index[i], 'Path_txt'] = str(name1)+' '+str(name2)+' '+str(name3)+' '+str(name4)+' '+str(name5)    \n",
    "    print(df_.shape)\n",
    "    ## Save to text file \n",
    "    list_path = df_['Path_txt'].tolist()\n",
    "    path2savetxt = f'{root2save}rheology2023-{subset}.txt'\n",
    "    with open(path2savetxt, 'w') as f:\n",
    "         for line in list_path:\n",
    "                f.write(f\"{line}\\n\")\n",
    "    print(f'On Process : Write text file name -> [ {path2savetxt} ] ') "
   ]
  },
  {
   "cell_type": "code",
   "execution_count": null,
   "id": "45a19606",
   "metadata": {},
   "outputs": [],
   "source": [
    "##seting\n",
    "subset = 'train'\n",
    "root2save = '/media/SSD/Frame_Inter_rheology2023/dataset/_5FrameFilter/' \n",
    "root2save\n",
    "if not os.path.exists(root2save):\n",
    "    os.makedirs(root2save)\n",
    "\n",
    "Filter_dataset(trainlist0, subset, root2save)"
   ]
  },
  {
   "cell_type": "code",
   "execution_count": null,
   "id": "26f9bf13",
   "metadata": {},
   "outputs": [],
   "source": [
    "trainset = 'train'\n",
    "Filter_dataset(trainlist0, trainset, root2save)"
   ]
  },
  {
   "cell_type": "code",
   "execution_count": null,
   "id": "567ec149",
   "metadata": {},
   "outputs": [],
   "source": [
    "with open('/media/SSD/Frame_Inter_rheology2023/dataset/_5FrameFilter/rheology2023-train.txt', 'r') as txt:\n",
    "    data = [line.strip() for line in txt]\n",
    "data"
   ]
  },
  {
   "cell_type": "code",
   "execution_count": null,
   "id": "f18df7b4",
   "metadata": {},
   "outputs": [],
   "source": [
    "trainlist = []\n",
    "\n",
    "train_fn = glob.glob(f\"{root2save}/*train.txt\")\n",
    "train_fn.sort()\n",
    "## For training set\n",
    "for fn in train_fn:\n",
    "    with open(fn, 'r') as txt:\n",
    "         meta_data = [line.strip() for line in txt]\n",
    "    for seq in meta_data:\n",
    "        img1_path, img2_path, img3_path, img4_path, img5_path = seq.split(' ')\n",
    "        trainlist.append([img1_path,img2_path,img3_path,img4_path, img5_path])"
   ]
  },
  {
   "cell_type": "code",
   "execution_count": null,
   "id": "4a8c441f",
   "metadata": {},
   "outputs": [],
   "source": [
    "train_fn"
   ]
  },
  {
   "cell_type": "code",
   "execution_count": null,
   "id": "c2e9d294",
   "metadata": {},
   "outputs": [],
   "source": [
    "print(len(trainlist))"
   ]
  },
  {
   "cell_type": "code",
   "execution_count": null,
   "id": "04ea3d8e",
   "metadata": {},
   "outputs": [],
   "source": [
    "trainlist"
   ]
  },
  {
   "cell_type": "code",
   "execution_count": null,
   "id": "0e42acb9",
   "metadata": {},
   "outputs": [],
   "source": [
    "trainlist[0]"
   ]
  },
  {
   "cell_type": "code",
   "execution_count": null,
   "id": "e067ce94",
   "metadata": {},
   "outputs": [],
   "source": [
    "def __getitem__(index):\n",
    "    if training:\n",
    "        imgpaths = trainlist[index]\n",
    "    else:\n",
    "        imgpaths = testlist[index]\n",
    "\n",
    "    pth_ = imgpaths\n",
    "\n",
    "    from PIL import Image, ImageFile\n",
    "    ImageFile.LOAD_TRUNCATED_IMAGES = True\n",
    "    # Load images\n",
    "    images = [Image.open(pth) for pth in imgpaths]"
   ]
  },
  {
   "cell_type": "code",
   "execution_count": null,
   "id": "0258be7b",
   "metadata": {},
   "outputs": [],
   "source": [
    "trainlist[500]"
   ]
  },
  {
   "cell_type": "code",
   "execution_count": null,
   "id": "28e1bb4a",
   "metadata": {},
   "outputs": [],
   "source": []
  },
  {
   "cell_type": "code",
   "execution_count": null,
   "id": "aa61f243",
   "metadata": {},
   "outputs": [],
   "source": [
    "inputs = [\n",
    "    (1,2,3,['a','b','c']),\n",
    "    (1,2,3,['d','e','f']),\n",
    "    (1,2,3,['x','y','z']),\n",
    "    (1,2,3,['A','B','C']),\n",
    "]\n",
    "\n",
    "inputs =(1,2,3,['a','b','c'])\n",
    "\n",
    "inputs"
   ]
  },
  {
   "cell_type": "code",
   "execution_count": null,
   "id": "f825bfd8",
   "metadata": {},
   "outputs": [],
   "source": [
    "inputs[0]"
   ]
  },
  {
   "cell_type": "code",
   "execution_count": null,
   "id": "4cf6923b",
   "metadata": {},
   "outputs": [],
   "source": [
    "inputs[1]"
   ]
  },
  {
   "cell_type": "code",
   "execution_count": null,
   "id": "a1ac6fa9",
   "metadata": {},
   "outputs": [],
   "source": [
    "2016998-2016976"
   ]
  },
  {
   "cell_type": "code",
   "execution_count": null,
   "id": "b13b22ae",
   "metadata": {},
   "outputs": [],
   "source": []
  },
  {
   "cell_type": "code",
   "execution_count": 3,
   "id": "eadb5309",
   "metadata": {},
   "outputs": [
    {
     "name": "stdout",
     "output_type": "stream",
     "text": [
      "(2016976, 6)\n"
     ]
    },
    {
     "data": {
      "text/html": [
       "<div>\n",
       "<style scoped>\n",
       "    .dataframe tbody tr th:only-of-type {\n",
       "        vertical-align: middle;\n",
       "    }\n",
       "\n",
       "    .dataframe tbody tr th {\n",
       "        vertical-align: top;\n",
       "    }\n",
       "\n",
       "    .dataframe thead th {\n",
       "        text-align: right;\n",
       "    }\n",
       "</style>\n",
       "<table border=\"1\" class=\"dataframe\">\n",
       "  <thead>\n",
       "    <tr style=\"text-align: right;\">\n",
       "      <th></th>\n",
       "      <th>Unnamed: 0</th>\n",
       "      <th>Path1</th>\n",
       "      <th>Path2</th>\n",
       "      <th>Path3</th>\n",
       "      <th>Path4</th>\n",
       "      <th>Path5</th>\n",
       "    </tr>\n",
       "  </thead>\n",
       "  <tbody>\n",
       "    <tr>\n",
       "      <th>0</th>\n",
       "      <td>0</td>\n",
       "      <td>/media/SSD/rheology2023/Glycerol/GLY10/GLY10P1...</td>\n",
       "      <td>/media/SSD/rheology2023/Glycerol/GLY10/GLY10P1...</td>\n",
       "      <td>/media/SSD/rheology2023/Glycerol/GLY10/GLY10P1...</td>\n",
       "      <td>/media/SSD/rheology2023/Glycerol/GLY10/GLY10P1...</td>\n",
       "      <td>/media/SSD/rheology2023/Glycerol/GLY10/GLY10P1...</td>\n",
       "    </tr>\n",
       "    <tr>\n",
       "      <th>1</th>\n",
       "      <td>1</td>\n",
       "      <td>/media/SSD/rheology2023/Glycerol/GLY10/GLY10P1...</td>\n",
       "      <td>/media/SSD/rheology2023/Glycerol/GLY10/GLY10P1...</td>\n",
       "      <td>/media/SSD/rheology2023/Glycerol/GLY10/GLY10P1...</td>\n",
       "      <td>/media/SSD/rheology2023/Glycerol/GLY10/GLY10P1...</td>\n",
       "      <td>/media/SSD/rheology2023/Glycerol/GLY10/GLY10P1...</td>\n",
       "    </tr>\n",
       "    <tr>\n",
       "      <th>2</th>\n",
       "      <td>2</td>\n",
       "      <td>/media/SSD/rheology2023/Glycerol/GLY10/GLY10P1...</td>\n",
       "      <td>/media/SSD/rheology2023/Glycerol/GLY10/GLY10P1...</td>\n",
       "      <td>/media/SSD/rheology2023/Glycerol/GLY10/GLY10P1...</td>\n",
       "      <td>/media/SSD/rheology2023/Glycerol/GLY10/GLY10P1...</td>\n",
       "      <td>/media/SSD/rheology2023/Glycerol/GLY10/GLY10P1...</td>\n",
       "    </tr>\n",
       "    <tr>\n",
       "      <th>3</th>\n",
       "      <td>3</td>\n",
       "      <td>/media/SSD/rheology2023/Glycerol/GLY10/GLY10P1...</td>\n",
       "      <td>/media/SSD/rheology2023/Glycerol/GLY10/GLY10P1...</td>\n",
       "      <td>/media/SSD/rheology2023/Glycerol/GLY10/GLY10P1...</td>\n",
       "      <td>/media/SSD/rheology2023/Glycerol/GLY10/GLY10P1...</td>\n",
       "      <td>/media/SSD/rheology2023/Glycerol/GLY10/GLY10P1...</td>\n",
       "    </tr>\n",
       "    <tr>\n",
       "      <th>4</th>\n",
       "      <td>4</td>\n",
       "      <td>/media/SSD/rheology2023/Glycerol/GLY10/GLY10P1...</td>\n",
       "      <td>/media/SSD/rheology2023/Glycerol/GLY10/GLY10P1...</td>\n",
       "      <td>/media/SSD/rheology2023/Glycerol/GLY10/GLY10P1...</td>\n",
       "      <td>/media/SSD/rheology2023/Glycerol/GLY10/GLY10P1...</td>\n",
       "      <td>/media/SSD/rheology2023/Glycerol/GLY10/GLY10P1...</td>\n",
       "    </tr>\n",
       "  </tbody>\n",
       "</table>\n",
       "</div>"
      ],
      "text/plain": [
       "   Unnamed: 0                                              Path1  \\\n",
       "0           0  /media/SSD/rheology2023/Glycerol/GLY10/GLY10P1...   \n",
       "1           1  /media/SSD/rheology2023/Glycerol/GLY10/GLY10P1...   \n",
       "2           2  /media/SSD/rheology2023/Glycerol/GLY10/GLY10P1...   \n",
       "3           3  /media/SSD/rheology2023/Glycerol/GLY10/GLY10P1...   \n",
       "4           4  /media/SSD/rheology2023/Glycerol/GLY10/GLY10P1...   \n",
       "\n",
       "                                               Path2  \\\n",
       "0  /media/SSD/rheology2023/Glycerol/GLY10/GLY10P1...   \n",
       "1  /media/SSD/rheology2023/Glycerol/GLY10/GLY10P1...   \n",
       "2  /media/SSD/rheology2023/Glycerol/GLY10/GLY10P1...   \n",
       "3  /media/SSD/rheology2023/Glycerol/GLY10/GLY10P1...   \n",
       "4  /media/SSD/rheology2023/Glycerol/GLY10/GLY10P1...   \n",
       "\n",
       "                                               Path3  \\\n",
       "0  /media/SSD/rheology2023/Glycerol/GLY10/GLY10P1...   \n",
       "1  /media/SSD/rheology2023/Glycerol/GLY10/GLY10P1...   \n",
       "2  /media/SSD/rheology2023/Glycerol/GLY10/GLY10P1...   \n",
       "3  /media/SSD/rheology2023/Glycerol/GLY10/GLY10P1...   \n",
       "4  /media/SSD/rheology2023/Glycerol/GLY10/GLY10P1...   \n",
       "\n",
       "                                               Path4  \\\n",
       "0  /media/SSD/rheology2023/Glycerol/GLY10/GLY10P1...   \n",
       "1  /media/SSD/rheology2023/Glycerol/GLY10/GLY10P1...   \n",
       "2  /media/SSD/rheology2023/Glycerol/GLY10/GLY10P1...   \n",
       "3  /media/SSD/rheology2023/Glycerol/GLY10/GLY10P1...   \n",
       "4  /media/SSD/rheology2023/Glycerol/GLY10/GLY10P1...   \n",
       "\n",
       "                                               Path5  \n",
       "0  /media/SSD/rheology2023/Glycerol/GLY10/GLY10P1...  \n",
       "1  /media/SSD/rheology2023/Glycerol/GLY10/GLY10P1...  \n",
       "2  /media/SSD/rheology2023/Glycerol/GLY10/GLY10P1...  \n",
       "3  /media/SSD/rheology2023/Glycerol/GLY10/GLY10P1...  \n",
       "4  /media/SSD/rheology2023/Glycerol/GLY10/GLY10P1...  "
      ]
     },
     "execution_count": 3,
     "metadata": {},
     "output_type": "execute_result"
    }
   ],
   "source": [
    "import pandas as pd\n",
    "\n",
    "df_ = pd.read_csv('/media/SSD/Frame_Inter_rheology2023/dataset/_5FrameFilter/rheology2023-train.csv')\n",
    "print(df_.shape)\n",
    "df_.head()"
   ]
  },
  {
   "cell_type": "code",
   "execution_count": 4,
   "id": "2812080e",
   "metadata": {
    "scrolled": true
   },
   "outputs": [
    {
     "name": "stdout",
     "output_type": "stream",
     "text": [
      "(1627576, 6)\n"
     ]
    },
    {
     "data": {
      "text/html": [
       "<div>\n",
       "<style scoped>\n",
       "    .dataframe tbody tr th:only-of-type {\n",
       "        vertical-align: middle;\n",
       "    }\n",
       "\n",
       "    .dataframe tbody tr th {\n",
       "        vertical-align: top;\n",
       "    }\n",
       "\n",
       "    .dataframe thead th {\n",
       "        text-align: right;\n",
       "    }\n",
       "</style>\n",
       "<table border=\"1\" class=\"dataframe\">\n",
       "  <thead>\n",
       "    <tr style=\"text-align: right;\">\n",
       "      <th></th>\n",
       "      <th>Unnamed: 0</th>\n",
       "      <th>Path1</th>\n",
       "      <th>Path2</th>\n",
       "      <th>Path3</th>\n",
       "      <th>Path4</th>\n",
       "      <th>Path5</th>\n",
       "    </tr>\n",
       "  </thead>\n",
       "  <tbody>\n",
       "    <tr>\n",
       "      <th>0</th>\n",
       "      <td>0</td>\n",
       "      <td>/media/SSD/rheology2023/Glycerol/GLY10/GLY10P1...</td>\n",
       "      <td>/media/SSD/rheology2023/Glycerol/GLY10/GLY10P1...</td>\n",
       "      <td>/media/SSD/rheology2023/Glycerol/GLY10/GLY10P1...</td>\n",
       "      <td>/media/SSD/rheology2023/Glycerol/GLY10/GLY10P1...</td>\n",
       "      <td>/media/SSD/rheology2023/Glycerol/GLY10/GLY10P1...</td>\n",
       "    </tr>\n",
       "    <tr>\n",
       "      <th>1</th>\n",
       "      <td>1</td>\n",
       "      <td>/media/SSD/rheology2023/Glycerol/GLY10/GLY10P1...</td>\n",
       "      <td>/media/SSD/rheology2023/Glycerol/GLY10/GLY10P1...</td>\n",
       "      <td>/media/SSD/rheology2023/Glycerol/GLY10/GLY10P1...</td>\n",
       "      <td>/media/SSD/rheology2023/Glycerol/GLY10/GLY10P1...</td>\n",
       "      <td>/media/SSD/rheology2023/Glycerol/GLY10/GLY10P1...</td>\n",
       "    </tr>\n",
       "    <tr>\n",
       "      <th>2</th>\n",
       "      <td>2</td>\n",
       "      <td>/media/SSD/rheology2023/Glycerol/GLY10/GLY10P1...</td>\n",
       "      <td>/media/SSD/rheology2023/Glycerol/GLY10/GLY10P1...</td>\n",
       "      <td>/media/SSD/rheology2023/Glycerol/GLY10/GLY10P1...</td>\n",
       "      <td>/media/SSD/rheology2023/Glycerol/GLY10/GLY10P1...</td>\n",
       "      <td>/media/SSD/rheology2023/Glycerol/GLY10/GLY10P1...</td>\n",
       "    </tr>\n",
       "    <tr>\n",
       "      <th>3</th>\n",
       "      <td>3</td>\n",
       "      <td>/media/SSD/rheology2023/Glycerol/GLY10/GLY10P1...</td>\n",
       "      <td>/media/SSD/rheology2023/Glycerol/GLY10/GLY10P1...</td>\n",
       "      <td>/media/SSD/rheology2023/Glycerol/GLY10/GLY10P1...</td>\n",
       "      <td>/media/SSD/rheology2023/Glycerol/GLY10/GLY10P1...</td>\n",
       "      <td>/media/SSD/rheology2023/Glycerol/GLY10/GLY10P1...</td>\n",
       "    </tr>\n",
       "    <tr>\n",
       "      <th>4</th>\n",
       "      <td>4</td>\n",
       "      <td>/media/SSD/rheology2023/Glycerol/GLY10/GLY10P1...</td>\n",
       "      <td>/media/SSD/rheology2023/Glycerol/GLY10/GLY10P1...</td>\n",
       "      <td>/media/SSD/rheology2023/Glycerol/GLY10/GLY10P1...</td>\n",
       "      <td>/media/SSD/rheology2023/Glycerol/GLY10/GLY10P1...</td>\n",
       "      <td>/media/SSD/rheology2023/Glycerol/GLY10/GLY10P1...</td>\n",
       "    </tr>\n",
       "  </tbody>\n",
       "</table>\n",
       "</div>"
      ],
      "text/plain": [
       "   Unnamed: 0                                              Path1  \\\n",
       "0           0  /media/SSD/rheology2023/Glycerol/GLY10/GLY10P1...   \n",
       "1           1  /media/SSD/rheology2023/Glycerol/GLY10/GLY10P1...   \n",
       "2           2  /media/SSD/rheology2023/Glycerol/GLY10/GLY10P1...   \n",
       "3           3  /media/SSD/rheology2023/Glycerol/GLY10/GLY10P1...   \n",
       "4           4  /media/SSD/rheology2023/Glycerol/GLY10/GLY10P1...   \n",
       "\n",
       "                                               Path2  \\\n",
       "0  /media/SSD/rheology2023/Glycerol/GLY10/GLY10P1...   \n",
       "1  /media/SSD/rheology2023/Glycerol/GLY10/GLY10P1...   \n",
       "2  /media/SSD/rheology2023/Glycerol/GLY10/GLY10P1...   \n",
       "3  /media/SSD/rheology2023/Glycerol/GLY10/GLY10P1...   \n",
       "4  /media/SSD/rheology2023/Glycerol/GLY10/GLY10P1...   \n",
       "\n",
       "                                               Path3  \\\n",
       "0  /media/SSD/rheology2023/Glycerol/GLY10/GLY10P1...   \n",
       "1  /media/SSD/rheology2023/Glycerol/GLY10/GLY10P1...   \n",
       "2  /media/SSD/rheology2023/Glycerol/GLY10/GLY10P1...   \n",
       "3  /media/SSD/rheology2023/Glycerol/GLY10/GLY10P1...   \n",
       "4  /media/SSD/rheology2023/Glycerol/GLY10/GLY10P1...   \n",
       "\n",
       "                                               Path4  \\\n",
       "0  /media/SSD/rheology2023/Glycerol/GLY10/GLY10P1...   \n",
       "1  /media/SSD/rheology2023/Glycerol/GLY10/GLY10P1...   \n",
       "2  /media/SSD/rheology2023/Glycerol/GLY10/GLY10P1...   \n",
       "3  /media/SSD/rheology2023/Glycerol/GLY10/GLY10P1...   \n",
       "4  /media/SSD/rheology2023/Glycerol/GLY10/GLY10P1...   \n",
       "\n",
       "                                               Path5  \n",
       "0  /media/SSD/rheology2023/Glycerol/GLY10/GLY10P1...  \n",
       "1  /media/SSD/rheology2023/Glycerol/GLY10/GLY10P1...  \n",
       "2  /media/SSD/rheology2023/Glycerol/GLY10/GLY10P1...  \n",
       "3  /media/SSD/rheology2023/Glycerol/GLY10/GLY10P1...  \n",
       "4  /media/SSD/rheology2023/Glycerol/GLY10/GLY10P1...  "
      ]
     },
     "execution_count": 4,
     "metadata": {},
     "output_type": "execute_result"
    }
   ],
   "source": [
    "train_fn = df_.iloc[:1627576,:]\n",
    "print(train_fn.shape)\n",
    "train_fn.head()"
   ]
  },
  {
   "cell_type": "code",
   "execution_count": 5,
   "id": "5b4fa7aa",
   "metadata": {},
   "outputs": [
    {
     "data": {
      "text/html": [
       "<div>\n",
       "<style scoped>\n",
       "    .dataframe tbody tr th:only-of-type {\n",
       "        vertical-align: middle;\n",
       "    }\n",
       "\n",
       "    .dataframe tbody tr th {\n",
       "        vertical-align: top;\n",
       "    }\n",
       "\n",
       "    .dataframe thead th {\n",
       "        text-align: right;\n",
       "    }\n",
       "</style>\n",
       "<table border=\"1\" class=\"dataframe\">\n",
       "  <thead>\n",
       "    <tr style=\"text-align: right;\">\n",
       "      <th></th>\n",
       "      <th>Unnamed: 0</th>\n",
       "      <th>Path1</th>\n",
       "      <th>Path2</th>\n",
       "      <th>Path3</th>\n",
       "      <th>Path4</th>\n",
       "      <th>Path5</th>\n",
       "    </tr>\n",
       "  </thead>\n",
       "  <tbody>\n",
       "    <tr>\n",
       "      <th>1627571</th>\n",
       "      <td>1627571</td>\n",
       "      <td>/media/SSD/rheology2023/Glycerol/GLY80/GLY80P1...</td>\n",
       "      <td>/media/SSD/rheology2023/Glycerol/GLY80/GLY80P1...</td>\n",
       "      <td>/media/SSD/rheology2023/Glycerol/GLY80/GLY80P1...</td>\n",
       "      <td>/media/SSD/rheology2023/Glycerol/GLY80/GLY80P1...</td>\n",
       "      <td>/media/SSD/rheology2023/Glycerol/GLY80/GLY80P1...</td>\n",
       "    </tr>\n",
       "    <tr>\n",
       "      <th>1627572</th>\n",
       "      <td>1627572</td>\n",
       "      <td>/media/SSD/rheology2023/Glycerol/GLY80/GLY80P1...</td>\n",
       "      <td>/media/SSD/rheology2023/Glycerol/GLY80/GLY80P1...</td>\n",
       "      <td>/media/SSD/rheology2023/Glycerol/GLY80/GLY80P1...</td>\n",
       "      <td>/media/SSD/rheology2023/Glycerol/GLY80/GLY80P1...</td>\n",
       "      <td>/media/SSD/rheology2023/Glycerol/GLY80/GLY80P1...</td>\n",
       "    </tr>\n",
       "    <tr>\n",
       "      <th>1627573</th>\n",
       "      <td>1627573</td>\n",
       "      <td>/media/SSD/rheology2023/Glycerol/GLY80/GLY80P1...</td>\n",
       "      <td>/media/SSD/rheology2023/Glycerol/GLY80/GLY80P1...</td>\n",
       "      <td>/media/SSD/rheology2023/Glycerol/GLY80/GLY80P1...</td>\n",
       "      <td>/media/SSD/rheology2023/Glycerol/GLY80/GLY80P1...</td>\n",
       "      <td>/media/SSD/rheology2023/Glycerol/GLY80/GLY80P1...</td>\n",
       "    </tr>\n",
       "    <tr>\n",
       "      <th>1627574</th>\n",
       "      <td>1627574</td>\n",
       "      <td>/media/SSD/rheology2023/Glycerol/GLY80/GLY80P1...</td>\n",
       "      <td>/media/SSD/rheology2023/Glycerol/GLY80/GLY80P1...</td>\n",
       "      <td>/media/SSD/rheology2023/Glycerol/GLY80/GLY80P1...</td>\n",
       "      <td>/media/SSD/rheology2023/Glycerol/GLY80/GLY80P1...</td>\n",
       "      <td>/media/SSD/rheology2023/Glycerol/GLY80/GLY80P1...</td>\n",
       "    </tr>\n",
       "    <tr>\n",
       "      <th>1627575</th>\n",
       "      <td>1627575</td>\n",
       "      <td>/media/SSD/rheology2023/Glycerol/GLY80/GLY80P1...</td>\n",
       "      <td>/media/SSD/rheology2023/Glycerol/GLY80/GLY80P1...</td>\n",
       "      <td>/media/SSD/rheology2023/Glycerol/GLY80/GLY80P1...</td>\n",
       "      <td>/media/SSD/rheology2023/Glycerol/GLY80/GLY80P1...</td>\n",
       "      <td>/media/SSD/rheology2023/Glycerol/GLY80/GLY80P1...</td>\n",
       "    </tr>\n",
       "  </tbody>\n",
       "</table>\n",
       "</div>"
      ],
      "text/plain": [
       "         Unnamed: 0                                              Path1  \\\n",
       "1627571     1627571  /media/SSD/rheology2023/Glycerol/GLY80/GLY80P1...   \n",
       "1627572     1627572  /media/SSD/rheology2023/Glycerol/GLY80/GLY80P1...   \n",
       "1627573     1627573  /media/SSD/rheology2023/Glycerol/GLY80/GLY80P1...   \n",
       "1627574     1627574  /media/SSD/rheology2023/Glycerol/GLY80/GLY80P1...   \n",
       "1627575     1627575  /media/SSD/rheology2023/Glycerol/GLY80/GLY80P1...   \n",
       "\n",
       "                                                     Path2  \\\n",
       "1627571  /media/SSD/rheology2023/Glycerol/GLY80/GLY80P1...   \n",
       "1627572  /media/SSD/rheology2023/Glycerol/GLY80/GLY80P1...   \n",
       "1627573  /media/SSD/rheology2023/Glycerol/GLY80/GLY80P1...   \n",
       "1627574  /media/SSD/rheology2023/Glycerol/GLY80/GLY80P1...   \n",
       "1627575  /media/SSD/rheology2023/Glycerol/GLY80/GLY80P1...   \n",
       "\n",
       "                                                     Path3  \\\n",
       "1627571  /media/SSD/rheology2023/Glycerol/GLY80/GLY80P1...   \n",
       "1627572  /media/SSD/rheology2023/Glycerol/GLY80/GLY80P1...   \n",
       "1627573  /media/SSD/rheology2023/Glycerol/GLY80/GLY80P1...   \n",
       "1627574  /media/SSD/rheology2023/Glycerol/GLY80/GLY80P1...   \n",
       "1627575  /media/SSD/rheology2023/Glycerol/GLY80/GLY80P1...   \n",
       "\n",
       "                                                     Path4  \\\n",
       "1627571  /media/SSD/rheology2023/Glycerol/GLY80/GLY80P1...   \n",
       "1627572  /media/SSD/rheology2023/Glycerol/GLY80/GLY80P1...   \n",
       "1627573  /media/SSD/rheology2023/Glycerol/GLY80/GLY80P1...   \n",
       "1627574  /media/SSD/rheology2023/Glycerol/GLY80/GLY80P1...   \n",
       "1627575  /media/SSD/rheology2023/Glycerol/GLY80/GLY80P1...   \n",
       "\n",
       "                                                     Path5  \n",
       "1627571  /media/SSD/rheology2023/Glycerol/GLY80/GLY80P1...  \n",
       "1627572  /media/SSD/rheology2023/Glycerol/GLY80/GLY80P1...  \n",
       "1627573  /media/SSD/rheology2023/Glycerol/GLY80/GLY80P1...  \n",
       "1627574  /media/SSD/rheology2023/Glycerol/GLY80/GLY80P1...  \n",
       "1627575  /media/SSD/rheology2023/Glycerol/GLY80/GLY80P1...  "
      ]
     },
     "execution_count": 5,
     "metadata": {},
     "output_type": "execute_result"
    }
   ],
   "source": [
    "train_fn.tail()"
   ]
  },
  {
   "cell_type": "code",
   "execution_count": 6,
   "id": "efad8332",
   "metadata": {},
   "outputs": [
    {
     "data": {
      "text/plain": [
       "(1627576, 6)"
      ]
     },
     "execution_count": 6,
     "metadata": {},
     "output_type": "execute_result"
    }
   ],
   "source": [
    "train_fn.shape"
   ]
  },
  {
   "cell_type": "code",
   "execution_count": 7,
   "id": "015413f6",
   "metadata": {},
   "outputs": [
    {
     "data": {
      "text/plain": [
       "'/media/SSD/rheology2023/Glycerol/GLY80/GLY80P100_D0_30HZ_20XINF_UWELL_20221228_135935/GLY80P100_D0_30HZ_20XINF_UWELL_20221228_135935_0000001997.jpg'"
      ]
     },
     "execution_count": 7,
     "metadata": {},
     "output_type": "execute_result"
    }
   ],
   "source": [
    "train_fn['Path1'][1627575]"
   ]
  },
  {
   "cell_type": "code",
   "execution_count": 8,
   "id": "6d5e42bd",
   "metadata": {},
   "outputs": [],
   "source": [
    "train_fn = train_fn.reset_index(drop=True)\n",
    "train_fn.to_csv('/media/SSD/Frame_Inter_rheology2023/dataset/_5FrameFilter/GlycerolRheology2023-train.csv')"
   ]
  },
  {
   "cell_type": "code",
   "execution_count": 1,
   "id": "c2b924c0",
   "metadata": {},
   "outputs": [
    {
     "name": "stdout",
     "output_type": "stream",
     "text": [
      "(344432, 10)\n"
     ]
    },
    {
     "data": {
      "text/html": [
       "<div>\n",
       "<style scoped>\n",
       "    .dataframe tbody tr th:only-of-type {\n",
       "        vertical-align: middle;\n",
       "    }\n",
       "\n",
       "    .dataframe tbody tr th {\n",
       "        vertical-align: top;\n",
       "    }\n",
       "\n",
       "    .dataframe thead th {\n",
       "        text-align: right;\n",
       "    }\n",
       "</style>\n",
       "<table border=\"1\" class=\"dataframe\">\n",
       "  <thead>\n",
       "    <tr style=\"text-align: right;\">\n",
       "      <th></th>\n",
       "      <th>Unnamed: 0</th>\n",
       "      <th>Unnamed: 0.1</th>\n",
       "      <th>Unnamed: 0.1.1</th>\n",
       "      <th>Unnamed: 0.1.1.1</th>\n",
       "      <th>Unnamed: 0.1.1.1.1</th>\n",
       "      <th>Path1</th>\n",
       "      <th>Path2</th>\n",
       "      <th>Path3</th>\n",
       "      <th>Path4</th>\n",
       "      <th>Path5</th>\n",
       "    </tr>\n",
       "  </thead>\n",
       "  <tbody>\n",
       "    <tr>\n",
       "      <th>0</th>\n",
       "      <td>0</td>\n",
       "      <td>0</td>\n",
       "      <td>0</td>\n",
       "      <td>0</td>\n",
       "      <td>0</td>\n",
       "      <td>/media/SSD/rheology2023/Glycerol/GLY10/GLY10P1...</td>\n",
       "      <td>/media/SSD/rheology2023/Glycerol/GLY10/GLY10P1...</td>\n",
       "      <td>/media/SSD/rheology2023/Glycerol/GLY10/GLY10P1...</td>\n",
       "      <td>/media/SSD/rheology2023/Glycerol/GLY10/GLY10P1...</td>\n",
       "      <td>/media/SSD/rheology2023/Glycerol/GLY10/GLY10P1...</td>\n",
       "    </tr>\n",
       "    <tr>\n",
       "      <th>1</th>\n",
       "      <td>1</td>\n",
       "      <td>1</td>\n",
       "      <td>1</td>\n",
       "      <td>1</td>\n",
       "      <td>1</td>\n",
       "      <td>/media/SSD/rheology2023/Glycerol/GLY10/GLY10P1...</td>\n",
       "      <td>/media/SSD/rheology2023/Glycerol/GLY10/GLY10P1...</td>\n",
       "      <td>/media/SSD/rheology2023/Glycerol/GLY10/GLY10P1...</td>\n",
       "      <td>/media/SSD/rheology2023/Glycerol/GLY10/GLY10P1...</td>\n",
       "      <td>/media/SSD/rheology2023/Glycerol/GLY10/GLY10P1...</td>\n",
       "    </tr>\n",
       "    <tr>\n",
       "      <th>2</th>\n",
       "      <td>2</td>\n",
       "      <td>2</td>\n",
       "      <td>2</td>\n",
       "      <td>2</td>\n",
       "      <td>2</td>\n",
       "      <td>/media/SSD/rheology2023/Glycerol/GLY10/GLY10P1...</td>\n",
       "      <td>/media/SSD/rheology2023/Glycerol/GLY10/GLY10P1...</td>\n",
       "      <td>/media/SSD/rheology2023/Glycerol/GLY10/GLY10P1...</td>\n",
       "      <td>/media/SSD/rheology2023/Glycerol/GLY10/GLY10P1...</td>\n",
       "      <td>/media/SSD/rheology2023/Glycerol/GLY10/GLY10P1...</td>\n",
       "    </tr>\n",
       "    <tr>\n",
       "      <th>3</th>\n",
       "      <td>3</td>\n",
       "      <td>3</td>\n",
       "      <td>3</td>\n",
       "      <td>3</td>\n",
       "      <td>3</td>\n",
       "      <td>/media/SSD/rheology2023/Glycerol/GLY10/GLY10P1...</td>\n",
       "      <td>/media/SSD/rheology2023/Glycerol/GLY10/GLY10P1...</td>\n",
       "      <td>/media/SSD/rheology2023/Glycerol/GLY10/GLY10P1...</td>\n",
       "      <td>/media/SSD/rheology2023/Glycerol/GLY10/GLY10P1...</td>\n",
       "      <td>/media/SSD/rheology2023/Glycerol/GLY10/GLY10P1...</td>\n",
       "    </tr>\n",
       "    <tr>\n",
       "      <th>4</th>\n",
       "      <td>4</td>\n",
       "      <td>4</td>\n",
       "      <td>4</td>\n",
       "      <td>4</td>\n",
       "      <td>4</td>\n",
       "      <td>/media/SSD/rheology2023/Glycerol/GLY10/GLY10P1...</td>\n",
       "      <td>/media/SSD/rheology2023/Glycerol/GLY10/GLY10P1...</td>\n",
       "      <td>/media/SSD/rheology2023/Glycerol/GLY10/GLY10P1...</td>\n",
       "      <td>/media/SSD/rheology2023/Glycerol/GLY10/GLY10P1...</td>\n",
       "      <td>/media/SSD/rheology2023/Glycerol/GLY10/GLY10P1...</td>\n",
       "    </tr>\n",
       "  </tbody>\n",
       "</table>\n",
       "</div>"
      ],
      "text/plain": [
       "   Unnamed: 0  Unnamed: 0.1  Unnamed: 0.1.1  Unnamed: 0.1.1.1  \\\n",
       "0           0             0               0                 0   \n",
       "1           1             1               1                 1   \n",
       "2           2             2               2                 2   \n",
       "3           3             3               3                 3   \n",
       "4           4             4               4                 4   \n",
       "\n",
       "   Unnamed: 0.1.1.1.1                                              Path1  \\\n",
       "0                   0  /media/SSD/rheology2023/Glycerol/GLY10/GLY10P1...   \n",
       "1                   1  /media/SSD/rheology2023/Glycerol/GLY10/GLY10P1...   \n",
       "2                   2  /media/SSD/rheology2023/Glycerol/GLY10/GLY10P1...   \n",
       "3                   3  /media/SSD/rheology2023/Glycerol/GLY10/GLY10P1...   \n",
       "4                   4  /media/SSD/rheology2023/Glycerol/GLY10/GLY10P1...   \n",
       "\n",
       "                                               Path2  \\\n",
       "0  /media/SSD/rheology2023/Glycerol/GLY10/GLY10P1...   \n",
       "1  /media/SSD/rheology2023/Glycerol/GLY10/GLY10P1...   \n",
       "2  /media/SSD/rheology2023/Glycerol/GLY10/GLY10P1...   \n",
       "3  /media/SSD/rheology2023/Glycerol/GLY10/GLY10P1...   \n",
       "4  /media/SSD/rheology2023/Glycerol/GLY10/GLY10P1...   \n",
       "\n",
       "                                               Path3  \\\n",
       "0  /media/SSD/rheology2023/Glycerol/GLY10/GLY10P1...   \n",
       "1  /media/SSD/rheology2023/Glycerol/GLY10/GLY10P1...   \n",
       "2  /media/SSD/rheology2023/Glycerol/GLY10/GLY10P1...   \n",
       "3  /media/SSD/rheology2023/Glycerol/GLY10/GLY10P1...   \n",
       "4  /media/SSD/rheology2023/Glycerol/GLY10/GLY10P1...   \n",
       "\n",
       "                                               Path4  \\\n",
       "0  /media/SSD/rheology2023/Glycerol/GLY10/GLY10P1...   \n",
       "1  /media/SSD/rheology2023/Glycerol/GLY10/GLY10P1...   \n",
       "2  /media/SSD/rheology2023/Glycerol/GLY10/GLY10P1...   \n",
       "3  /media/SSD/rheology2023/Glycerol/GLY10/GLY10P1...   \n",
       "4  /media/SSD/rheology2023/Glycerol/GLY10/GLY10P1...   \n",
       "\n",
       "                                               Path5  \n",
       "0  /media/SSD/rheology2023/Glycerol/GLY10/GLY10P1...  \n",
       "1  /media/SSD/rheology2023/Glycerol/GLY10/GLY10P1...  \n",
       "2  /media/SSD/rheology2023/Glycerol/GLY10/GLY10P1...  \n",
       "3  /media/SSD/rheology2023/Glycerol/GLY10/GLY10P1...  \n",
       "4  /media/SSD/rheology2023/Glycerol/GLY10/GLY10P1...  "
      ]
     },
     "execution_count": 1,
     "metadata": {},
     "output_type": "execute_result"
    }
   ],
   "source": [
    "import pandas as pd\n",
    "\n",
    "train_fn = pd.read_csv('/media/SSD/Frame_Inter_rheology2023/dataset/_5FrameFilter/GlycerolRheology2023-train.csv')\n",
    "print(train_fn.shape)\n",
    "train_fn.head()"
   ]
  },
  {
   "cell_type": "code",
   "execution_count": 2,
   "id": "52ee1e30",
   "metadata": {},
   "outputs": [
    {
     "data": {
      "text/html": [
       "<div>\n",
       "<style scoped>\n",
       "    .dataframe tbody tr th:only-of-type {\n",
       "        vertical-align: middle;\n",
       "    }\n",
       "\n",
       "    .dataframe tbody tr th {\n",
       "        vertical-align: top;\n",
       "    }\n",
       "\n",
       "    .dataframe thead th {\n",
       "        text-align: right;\n",
       "    }\n",
       "</style>\n",
       "<table border=\"1\" class=\"dataframe\">\n",
       "  <thead>\n",
       "    <tr style=\"text-align: right;\">\n",
       "      <th></th>\n",
       "      <th>Unnamed: 0</th>\n",
       "      <th>Unnamed: 0.1</th>\n",
       "      <th>Unnamed: 0.1.1</th>\n",
       "      <th>Unnamed: 0.1.1.1</th>\n",
       "      <th>Unnamed: 0.1.1.1.1</th>\n",
       "      <th>Path1</th>\n",
       "      <th>Path2</th>\n",
       "      <th>Path3</th>\n",
       "      <th>Path4</th>\n",
       "      <th>Path5</th>\n",
       "    </tr>\n",
       "  </thead>\n",
       "  <tbody>\n",
       "    <tr>\n",
       "      <th>344427</th>\n",
       "      <td>344427</td>\n",
       "      <td>344427</td>\n",
       "      <td>344427</td>\n",
       "      <td>344427</td>\n",
       "      <td>344427</td>\n",
       "      <td>/media/SSD/rheology2023/Glycerol/GLY10/GLY10P1...</td>\n",
       "      <td>/media/SSD/rheology2023/Glycerol/GLY10/GLY10P1...</td>\n",
       "      <td>/media/SSD/rheology2023/Glycerol/GLY10/GLY10P1...</td>\n",
       "      <td>/media/SSD/rheology2023/Glycerol/GLY10/GLY10P1...</td>\n",
       "      <td>/media/SSD/rheology2023/Glycerol/GLY10/GLY10P1...</td>\n",
       "    </tr>\n",
       "    <tr>\n",
       "      <th>344428</th>\n",
       "      <td>344428</td>\n",
       "      <td>344428</td>\n",
       "      <td>344428</td>\n",
       "      <td>344428</td>\n",
       "      <td>344428</td>\n",
       "      <td>/media/SSD/rheology2023/Glycerol/GLY10/GLY10P1...</td>\n",
       "      <td>/media/SSD/rheology2023/Glycerol/GLY10/GLY10P1...</td>\n",
       "      <td>/media/SSD/rheology2023/Glycerol/GLY10/GLY10P1...</td>\n",
       "      <td>/media/SSD/rheology2023/Glycerol/GLY10/GLY10P1...</td>\n",
       "      <td>/media/SSD/rheology2023/Glycerol/GLY10/GLY10P1...</td>\n",
       "    </tr>\n",
       "    <tr>\n",
       "      <th>344429</th>\n",
       "      <td>344429</td>\n",
       "      <td>344429</td>\n",
       "      <td>344429</td>\n",
       "      <td>344429</td>\n",
       "      <td>344429</td>\n",
       "      <td>/media/SSD/rheology2023/Glycerol/GLY10/GLY10P1...</td>\n",
       "      <td>/media/SSD/rheology2023/Glycerol/GLY10/GLY10P1...</td>\n",
       "      <td>/media/SSD/rheology2023/Glycerol/GLY10/GLY10P1...</td>\n",
       "      <td>/media/SSD/rheology2023/Glycerol/GLY10/GLY10P1...</td>\n",
       "      <td>/media/SSD/rheology2023/Glycerol/GLY10/GLY10P1...</td>\n",
       "    </tr>\n",
       "    <tr>\n",
       "      <th>344430</th>\n",
       "      <td>344430</td>\n",
       "      <td>344430</td>\n",
       "      <td>344430</td>\n",
       "      <td>344430</td>\n",
       "      <td>344430</td>\n",
       "      <td>/media/SSD/rheology2023/Glycerol/GLY10/GLY10P1...</td>\n",
       "      <td>/media/SSD/rheology2023/Glycerol/GLY10/GLY10P1...</td>\n",
       "      <td>/media/SSD/rheology2023/Glycerol/GLY10/GLY10P1...</td>\n",
       "      <td>/media/SSD/rheology2023/Glycerol/GLY10/GLY10P1...</td>\n",
       "      <td>/media/SSD/rheology2023/Glycerol/GLY10/GLY10P1...</td>\n",
       "    </tr>\n",
       "    <tr>\n",
       "      <th>344431</th>\n",
       "      <td>344431</td>\n",
       "      <td>344431</td>\n",
       "      <td>344431</td>\n",
       "      <td>344431</td>\n",
       "      <td>344431</td>\n",
       "      <td>/media/SSD/rheology2023/Glycerol/GLY10/GLY10P1...</td>\n",
       "      <td>/media/SSD/rheology2023/Glycerol/GLY10/GLY10P1...</td>\n",
       "      <td>/media/SSD/rheology2023/Glycerol/GLY10/GLY10P1...</td>\n",
       "      <td>/media/SSD/rheology2023/Glycerol/GLY10/GLY10P1...</td>\n",
       "      <td>/media/SSD/rheology2023/Glycerol/GLY10/GLY10P1...</td>\n",
       "    </tr>\n",
       "  </tbody>\n",
       "</table>\n",
       "</div>"
      ],
      "text/plain": [
       "        Unnamed: 0  Unnamed: 0.1  Unnamed: 0.1.1  Unnamed: 0.1.1.1  \\\n",
       "344427      344427        344427          344427            344427   \n",
       "344428      344428        344428          344428            344428   \n",
       "344429      344429        344429          344429            344429   \n",
       "344430      344430        344430          344430            344430   \n",
       "344431      344431        344431          344431            344431   \n",
       "\n",
       "        Unnamed: 0.1.1.1.1                                              Path1  \\\n",
       "344427              344427  /media/SSD/rheology2023/Glycerol/GLY10/GLY10P1...   \n",
       "344428              344428  /media/SSD/rheology2023/Glycerol/GLY10/GLY10P1...   \n",
       "344429              344429  /media/SSD/rheology2023/Glycerol/GLY10/GLY10P1...   \n",
       "344430              344430  /media/SSD/rheology2023/Glycerol/GLY10/GLY10P1...   \n",
       "344431              344431  /media/SSD/rheology2023/Glycerol/GLY10/GLY10P1...   \n",
       "\n",
       "                                                    Path2  \\\n",
       "344427  /media/SSD/rheology2023/Glycerol/GLY10/GLY10P1...   \n",
       "344428  /media/SSD/rheology2023/Glycerol/GLY10/GLY10P1...   \n",
       "344429  /media/SSD/rheology2023/Glycerol/GLY10/GLY10P1...   \n",
       "344430  /media/SSD/rheology2023/Glycerol/GLY10/GLY10P1...   \n",
       "344431  /media/SSD/rheology2023/Glycerol/GLY10/GLY10P1...   \n",
       "\n",
       "                                                    Path3  \\\n",
       "344427  /media/SSD/rheology2023/Glycerol/GLY10/GLY10P1...   \n",
       "344428  /media/SSD/rheology2023/Glycerol/GLY10/GLY10P1...   \n",
       "344429  /media/SSD/rheology2023/Glycerol/GLY10/GLY10P1...   \n",
       "344430  /media/SSD/rheology2023/Glycerol/GLY10/GLY10P1...   \n",
       "344431  /media/SSD/rheology2023/Glycerol/GLY10/GLY10P1...   \n",
       "\n",
       "                                                    Path4  \\\n",
       "344427  /media/SSD/rheology2023/Glycerol/GLY10/GLY10P1...   \n",
       "344428  /media/SSD/rheology2023/Glycerol/GLY10/GLY10P1...   \n",
       "344429  /media/SSD/rheology2023/Glycerol/GLY10/GLY10P1...   \n",
       "344430  /media/SSD/rheology2023/Glycerol/GLY10/GLY10P1...   \n",
       "344431  /media/SSD/rheology2023/Glycerol/GLY10/GLY10P1...   \n",
       "\n",
       "                                                    Path5  \n",
       "344427  /media/SSD/rheology2023/Glycerol/GLY10/GLY10P1...  \n",
       "344428  /media/SSD/rheology2023/Glycerol/GLY10/GLY10P1...  \n",
       "344429  /media/SSD/rheology2023/Glycerol/GLY10/GLY10P1...  \n",
       "344430  /media/SSD/rheology2023/Glycerol/GLY10/GLY10P1...  \n",
       "344431  /media/SSD/rheology2023/Glycerol/GLY10/GLY10P1...  "
      ]
     },
     "execution_count": 2,
     "metadata": {},
     "output_type": "execute_result"
    }
   ],
   "source": [
    "train_fn.tail()"
   ]
  },
  {
   "cell_type": "code",
   "execution_count": 9,
   "id": "513f435a",
   "metadata": {},
   "outputs": [],
   "source": [
    "f = '/media/SSD/rheology2023/Glycerol/GLY60/GLY60P100_D0_30HZ_20XINF_UWELL_20221228_093115+GLY60P100_D0_30HZ_20XINF_UWELL_20221228_093115_0000000588.jpg'"
   ]
  },
  {
   "cell_type": "code",
   "execution_count": 10,
   "id": "9a60055b",
   "metadata": {},
   "outputs": [
    {
     "data": {
      "text/html": [
       "<div>\n",
       "<style scoped>\n",
       "    .dataframe tbody tr th:only-of-type {\n",
       "        vertical-align: middle;\n",
       "    }\n",
       "\n",
       "    .dataframe tbody tr th {\n",
       "        vertical-align: top;\n",
       "    }\n",
       "\n",
       "    .dataframe thead th {\n",
       "        text-align: right;\n",
       "    }\n",
       "</style>\n",
       "<table border=\"1\" class=\"dataframe\">\n",
       "  <thead>\n",
       "    <tr style=\"text-align: right;\">\n",
       "      <th></th>\n",
       "      <th>Unnamed: 0</th>\n",
       "      <th>Path1</th>\n",
       "      <th>Path2</th>\n",
       "      <th>Path3</th>\n",
       "      <th>Path4</th>\n",
       "      <th>Path5</th>\n",
       "    </tr>\n",
       "  </thead>\n",
       "  <tbody>\n",
       "  </tbody>\n",
       "</table>\n",
       "</div>"
      ],
      "text/plain": [
       "Empty DataFrame\n",
       "Columns: [Unnamed: 0, Path1, Path2, Path3, Path4, Path5]\n",
       "Index: []"
      ]
     },
     "execution_count": 10,
     "metadata": {},
     "output_type": "execute_result"
    }
   ],
   "source": [
    "train_fn[train_fn['Path1']==f]"
   ]
  },
  {
   "cell_type": "code",
   "execution_count": 11,
   "id": "112a5be2",
   "metadata": {},
   "outputs": [
    {
     "data": {
      "text/html": [
       "<div>\n",
       "<style scoped>\n",
       "    .dataframe tbody tr th:only-of-type {\n",
       "        vertical-align: middle;\n",
       "    }\n",
       "\n",
       "    .dataframe tbody tr th {\n",
       "        vertical-align: top;\n",
       "    }\n",
       "\n",
       "    .dataframe thead th {\n",
       "        text-align: right;\n",
       "    }\n",
       "</style>\n",
       "<table border=\"1\" class=\"dataframe\">\n",
       "  <thead>\n",
       "    <tr style=\"text-align: right;\">\n",
       "      <th></th>\n",
       "      <th>Unnamed: 0</th>\n",
       "      <th>Path1</th>\n",
       "      <th>Path2</th>\n",
       "      <th>Path3</th>\n",
       "      <th>Path4</th>\n",
       "      <th>Path5</th>\n",
       "    </tr>\n",
       "  </thead>\n",
       "  <tbody>\n",
       "  </tbody>\n",
       "</table>\n",
       "</div>"
      ],
      "text/plain": [
       "Empty DataFrame\n",
       "Columns: [Unnamed: 0, Path1, Path2, Path3, Path4, Path5]\n",
       "Index: []"
      ]
     },
     "execution_count": 11,
     "metadata": {},
     "output_type": "execute_result"
    }
   ],
   "source": [
    "train_fn[train_fn['Path2']==f]"
   ]
  },
  {
   "cell_type": "code",
   "execution_count": null,
   "id": "4fbc9755",
   "metadata": {},
   "outputs": [],
   "source": [
    "train_fn['Path2'][1430459]"
   ]
  },
  {
   "cell_type": "code",
   "execution_count": 12,
   "id": "3c4eb8e0",
   "metadata": {},
   "outputs": [],
   "source": [
    "# # dropping a row 'c' & 'd' from actual dataframe\n",
    "# train_fn.drop(1430459, inplace = True )"
   ]
  },
  {
   "cell_type": "code",
   "execution_count": 13,
   "id": "8905024f",
   "metadata": {},
   "outputs": [
    {
     "data": {
      "text/plain": [
       "(1627576, 6)"
      ]
     },
     "execution_count": 13,
     "metadata": {},
     "output_type": "execute_result"
    }
   ],
   "source": [
    "train_fn.shape"
   ]
  },
  {
   "cell_type": "code",
   "execution_count": 6,
   "id": "e2130683",
   "metadata": {},
   "outputs": [
    {
     "data": {
      "text/html": [
       "<div>\n",
       "<style scoped>\n",
       "    .dataframe tbody tr th:only-of-type {\n",
       "        vertical-align: middle;\n",
       "    }\n",
       "\n",
       "    .dataframe tbody tr th {\n",
       "        vertical-align: top;\n",
       "    }\n",
       "\n",
       "    .dataframe thead th {\n",
       "        text-align: right;\n",
       "    }\n",
       "</style>\n",
       "<table border=\"1\" class=\"dataframe\">\n",
       "  <thead>\n",
       "    <tr style=\"text-align: right;\">\n",
       "      <th></th>\n",
       "      <th>Unnamed: 0</th>\n",
       "      <th>Unnamed: 0.1</th>\n",
       "      <th>Path1</th>\n",
       "      <th>Path2</th>\n",
       "      <th>Path3</th>\n",
       "      <th>Path4</th>\n",
       "      <th>Path5</th>\n",
       "    </tr>\n",
       "  </thead>\n",
       "  <tbody>\n",
       "  </tbody>\n",
       "</table>\n",
       "</div>"
      ],
      "text/plain": [
       "Empty DataFrame\n",
       "Columns: [Unnamed: 0, Unnamed: 0.1, Path1, Path2, Path3, Path4, Path5]\n",
       "Index: []"
      ]
     },
     "execution_count": 6,
     "metadata": {},
     "output_type": "execute_result"
    }
   ],
   "source": [
    "train_fn[train_fn['Path2']==f]"
   ]
  },
  {
   "cell_type": "code",
   "execution_count": null,
   "id": "16c471ec",
   "metadata": {},
   "outputs": [],
   "source": [
    "train_fn[train_fn['Path3']==f]"
   ]
  },
  {
   "cell_type": "code",
   "execution_count": null,
   "id": "299cd744",
   "metadata": {},
   "outputs": [],
   "source": [
    "train_fn[train_fn['Path4']==f]"
   ]
  },
  {
   "cell_type": "code",
   "execution_count": null,
   "id": "ebf34063",
   "metadata": {},
   "outputs": [],
   "source": [
    "train_fn[train_fn['Path5']==f]"
   ]
  },
  {
   "cell_type": "code",
   "execution_count": null,
   "id": "c828dd7f",
   "metadata": {},
   "outputs": [],
   "source": [
    "train_fn = train_fn.reset_index(drop=True)\n",
    "train_fn.to_csv('/media/SSD/Frame_Inter_rheology2023/dataset/_5FrameFilter/GlycerolRheology2023-train.csv')"
   ]
  },
  {
   "cell_type": "code",
   "execution_count": null,
   "id": "19ceb48f",
   "metadata": {},
   "outputs": [],
   "source": []
  },
  {
   "cell_type": "code",
   "execution_count": null,
   "id": "e8906e89",
   "metadata": {},
   "outputs": [],
   "source": []
  },
  {
   "cell_type": "code",
   "execution_count": null,
   "id": "6ca59a51",
   "metadata": {},
   "outputs": [],
   "source": []
  },
  {
   "cell_type": "code",
   "execution_count": null,
   "id": "5061074d",
   "metadata": {},
   "outputs": [],
   "source": []
  },
  {
   "cell_type": "code",
   "execution_count": null,
   "id": "64aac6b7",
   "metadata": {},
   "outputs": [],
   "source": [
    "trainlist = [] \n",
    "\n",
    "for i in range(len(train_fn)):\n",
    "    img1_path = train_fn['Path1'][i]\n",
    "    img2_path = train_fn['Path2'][i]\n",
    "    img3_path = train_fn['Path3'][i]\n",
    "    img4_path = train_fn['Path4'][i]\n",
    "    img5_path = train_fn['Path5'][i]\n",
    "    trainlist.append([img1_path,img2_path,img3_path,img4_path, img5_path])"
   ]
  },
  {
   "cell_type": "code",
   "execution_count": null,
   "id": "88110a07",
   "metadata": {},
   "outputs": [],
   "source": [
    "print(len(trainlist))\n",
    "trainlist"
   ]
  },
  {
   "cell_type": "code",
   "execution_count": null,
   "id": "05f355fa",
   "metadata": {},
   "outputs": [],
   "source": [
    "trainlist[0]"
   ]
  },
  {
   "cell_type": "code",
   "execution_count": null,
   "id": "8936ab8e",
   "metadata": {},
   "outputs": [],
   "source": [
    "trainlist[1]"
   ]
  },
  {
   "cell_type": "code",
   "execution_count": null,
   "id": "e2c86aaf",
   "metadata": {},
   "outputs": [],
   "source": [
    "trainlist[2]"
   ]
  },
  {
   "cell_type": "code",
   "execution_count": null,
   "id": "7f0e1376",
   "metadata": {},
   "outputs": [],
   "source": []
  },
  {
   "cell_type": "code",
   "execution_count": null,
   "id": "19a49acc",
   "metadata": {},
   "outputs": [],
   "source": [
    "import  glob\n",
    "\n",
    "data_root = '/media/SSD/Frame_Inter_rheology2023/dataset/_5FrameFilter/'\n",
    "test_fn = glob.glob(f\"{data_root}/rheology2023-test.txt\")\n",
    "test_fn"
   ]
  },
  {
   "cell_type": "code",
   "execution_count": null,
   "id": "4c58422d",
   "metadata": {},
   "outputs": [],
   "source": []
  }
 ],
 "metadata": {
  "kernelspec": {
   "display_name": "FLAVR",
   "language": "python",
   "name": "flavr"
  },
  "language_info": {
   "codemirror_mode": {
    "name": "ipython",
    "version": 3
   },
   "file_extension": ".py",
   "mimetype": "text/x-python",
   "name": "python",
   "nbconvert_exporter": "python",
   "pygments_lexer": "ipython3",
   "version": "3.7.15"
  }
 },
 "nbformat": 4,
 "nbformat_minor": 5
}
